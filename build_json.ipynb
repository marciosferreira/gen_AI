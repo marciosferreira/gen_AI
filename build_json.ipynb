{
 "cells": [
  {
   "cell_type": "code",
   "execution_count": 3,
   "metadata": {},
   "outputs": [
    {
     "name": "stderr",
     "output_type": "stream",
     "text": [
      "'pwd' n�o � reconhecido como um comando interno\n",
      "ou externo, um programa oper�vel ou um arquivo em lotes.\n"
     ]
    }
   ],
   "source": [
    "!pwd"
   ]
  },
  {
   "cell_type": "code",
   "execution_count": 4,
   "metadata": {},
   "outputs": [
    {
     "data": {
      "text/html": [
       "<div>\n",
       "<style scoped>\n",
       "    .dataframe tbody tr th:only-of-type {\n",
       "        vertical-align: middle;\n",
       "    }\n",
       "\n",
       "    .dataframe tbody tr th {\n",
       "        vertical-align: top;\n",
       "    }\n",
       "\n",
       "    .dataframe thead th {\n",
       "        text-align: right;\n",
       "    }\n",
       "</style>\n",
       "<table border=\"1\" class=\"dataframe\">\n",
       "  <thead>\n",
       "    <tr style=\"text-align: right;\">\n",
       "      <th></th>\n",
       "      <th>Subscription plan</th>\n",
       "      <th>Standard</th>\n",
       "      <th>Gold Star</th>\n",
       "    </tr>\n",
       "  </thead>\n",
       "  <tbody>\n",
       "    <tr>\n",
       "      <th>0</th>\n",
       "      <td>Cost</td>\n",
       "      <td>Complimentary</td>\n",
       "      <td>Approx.$8USD/mo</td>\n",
       "    </tr>\n",
       "    <tr>\n",
       "      <th>1</th>\n",
       "      <td>Cloud capacity</td>\n",
       "      <td>Capacity limit 1G</td>\n",
       "      <td>Capacity limit 30G</td>\n",
       "    </tr>\n",
       "    <tr>\n",
       "      <th>2</th>\n",
       "      <td>Digital Keepsakes</td>\n",
       "      <td>NaN</td>\n",
       "      <td>NaN</td>\n",
       "    </tr>\n",
       "    <tr>\n",
       "      <th>3</th>\n",
       "      <td>Manual Capture (5MP) and Record ⓘ</td>\n",
       "      <td>✓</td>\n",
       "      <td>✓</td>\n",
       "    </tr>\n",
       "    <tr>\n",
       "      <th>4</th>\n",
       "      <td>Camera Timer ⓘ</td>\n",
       "      <td>✓</td>\n",
       "      <td>✓</td>\n",
       "    </tr>\n",
       "  </tbody>\n",
       "</table>\n",
       "</div>"
      ],
      "text/plain": [
       "                   Subscription plan           Standard           Gold Star\n",
       "0                               Cost      Complimentary     Approx.$8USD/mo\n",
       "1                     Cloud capacity  Capacity limit 1G  Capacity limit 30G\n",
       "2                  Digital Keepsakes                NaN                 NaN\n",
       "3  Manual Capture (5MP) and Record ⓘ                  ✓                   ✓\n",
       "4                     Camera Timer ⓘ                  ✓                   ✓"
      ]
     },
     "execution_count": 4,
     "metadata": {},
     "output_type": "execute_result"
    }
   ],
   "source": [
    "import pandas as pd\n",
    "\n",
    "# Carregar o arquivo Excel enviado\n",
    "file_path = 'Pixsee Planet subscription .xlsx'\n",
    "df = pd.read_excel(file_path)\n",
    "\n",
    "# Verificar as primeiras linhas do DataFrame para entender a estrutura\n",
    "df.head()\n"
   ]
  },
  {
   "cell_type": "code",
   "execution_count": 9,
   "metadata": {},
   "outputs": [
    {
     "data": {
      "text/plain": [
       "'structured_subscription_data_with_categories.json'"
      ]
     },
     "execution_count": 9,
     "metadata": {},
     "output_type": "execute_result"
    }
   ],
   "source": [
    "import json\n",
    "\n",
    "\n",
    "# Process the data with improved categorization\n",
    "structured_data_with_categories = []\n",
    "current_subgroup = None  # Track the current subgroup\n",
    "\n",
    "# Add general details (first row)\n",
    "for plan, cost in zip(df.columns[1:], df.iloc[0, 1:]):\n",
    "    structured_data_with_categories.append({\n",
    "        \"id\": f\"{plan.lower()}_general\",\n",
    "        \"type\": \"general_info\",\n",
    "        \"plan\": plan,\n",
    "        \"category\": \"Subscription Plan\",  # Add explicit category\n",
    "        \"feature\": \"Cost\",\n",
    "        \"details\": cost,\n",
    "        \"subgroup\": None\n",
    "    })\n",
    "\n",
    "# Process each row to associate with subgroups and categorize features\n",
    "for index, row in df.iterrows():\n",
    "    if index <= 1:\n",
    "        # Skip the first two rows as the first row is already processed\n",
    "        continue\n",
    "\n",
    "    feature = row[df.columns[0]]  # The first column contains subgroups or features\n",
    "\n",
    "    # Check if the row represents a new subgroup\n",
    "    if pd.isna(row[df.columns[1]]) and pd.isna(row[df.columns[2]]):\n",
    "        # If both plan columns are NaN, this row is a subgroup\n",
    "        current_subgroup = feature\n",
    "        continue\n",
    "\n",
    "    # Process the feature details under the current subgroup\n",
    "    for plan in df.columns[1:]:\n",
    "        if pd.notna(row[plan]):\n",
    "            structured_data_with_categories.append({\n",
    "                \"id\": f\"{plan.lower()}_{index}\",\n",
    "                \"type\": \"feature\",\n",
    "                \"plan\": plan,\n",
    "                \"category\": \"Feature\",  # Add explicit category\n",
    "                \"feature\": feature,\n",
    "                \"details\": row[plan],\n",
    "                \"subgroup\": current_subgroup\n",
    "            })\n",
    "\n",
    "# Save the structured data with categories to a JSON file\n",
    "output_path_with_categories = 'structured_subscription_data_with_categories.json'\n",
    "with open(output_path_with_categories, 'w') as f:\n",
    "    json.dump(structured_data_with_categories, f, indent=4)\n",
    "\n",
    "output_path_with_categories\n"
   ]
  }
 ],
 "metadata": {
  "kernelspec": {
   "display_name": "llama",
   "language": "python",
   "name": "python3"
  },
  "language_info": {
   "codemirror_mode": {
    "name": "ipython",
    "version": 3
   },
   "file_extension": ".py",
   "mimetype": "text/x-python",
   "name": "python",
   "nbconvert_exporter": "python",
   "pygments_lexer": "ipython3",
   "version": "3.11.9"
  }
 },
 "nbformat": 4,
 "nbformat_minor": 2
}
