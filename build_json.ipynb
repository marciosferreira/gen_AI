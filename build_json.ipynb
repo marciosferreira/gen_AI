{
 "cells": [
  {
   "cell_type": "code",
   "execution_count": 1,
   "metadata": {},
   "outputs": [
    {
     "name": "stderr",
     "output_type": "stream",
     "text": [
      "'pwd' n�o � reconhecido como um comando interno\n",
      "ou externo, um programa oper�vel ou um arquivo em lotes.\n"
     ]
    }
   ],
   "source": [
    "!pwd"
   ]
  },
  {
   "cell_type": "code",
   "execution_count": 2,
   "metadata": {},
   "outputs": [
    {
     "data": {
      "text/html": [
       "<div>\n",
       "<style scoped>\n",
       "    .dataframe tbody tr th:only-of-type {\n",
       "        vertical-align: middle;\n",
       "    }\n",
       "\n",
       "    .dataframe tbody tr th {\n",
       "        vertical-align: top;\n",
       "    }\n",
       "\n",
       "    .dataframe thead th {\n",
       "        text-align: right;\n",
       "    }\n",
       "</style>\n",
       "<table border=\"1\" class=\"dataframe\">\n",
       "  <thead>\n",
       "    <tr style=\"text-align: right;\">\n",
       "      <th></th>\n",
       "      <th>Subscription plan</th>\n",
       "      <th>Standard</th>\n",
       "      <th>Gold Star</th>\n",
       "    </tr>\n",
       "  </thead>\n",
       "  <tbody>\n",
       "    <tr>\n",
       "      <th>0</th>\n",
       "      <td>Cost</td>\n",
       "      <td>Complimentary</td>\n",
       "      <td>Approx.$8USD/mo</td>\n",
       "    </tr>\n",
       "    <tr>\n",
       "      <th>1</th>\n",
       "      <td>Cloud capacity</td>\n",
       "      <td>Capacity limit 1G</td>\n",
       "      <td>Capacity limit 30G</td>\n",
       "    </tr>\n",
       "    <tr>\n",
       "      <th>2</th>\n",
       "      <td>Digital Keepsakes</td>\n",
       "      <td>NaN</td>\n",
       "      <td>NaN</td>\n",
       "    </tr>\n",
       "    <tr>\n",
       "      <th>3</th>\n",
       "      <td>Manual Capture (5MP) and Record ⓘ</td>\n",
       "      <td>✓</td>\n",
       "      <td>✓</td>\n",
       "    </tr>\n",
       "    <tr>\n",
       "      <th>4</th>\n",
       "      <td>Camera Timer ⓘ</td>\n",
       "      <td>✓</td>\n",
       "      <td>✓</td>\n",
       "    </tr>\n",
       "  </tbody>\n",
       "</table>\n",
       "</div>"
      ],
      "text/plain": [
       "                   Subscription plan           Standard           Gold Star\n",
       "0                               Cost      Complimentary     Approx.$8USD/mo\n",
       "1                     Cloud capacity  Capacity limit 1G  Capacity limit 30G\n",
       "2                  Digital Keepsakes                NaN                 NaN\n",
       "3  Manual Capture (5MP) and Record ⓘ                  ✓                   ✓\n",
       "4                     Camera Timer ⓘ                  ✓                   ✓"
      ]
     },
     "execution_count": 2,
     "metadata": {},
     "output_type": "execute_result"
    }
   ],
   "source": [
    "import pandas as pd\n",
    "\n",
    "# Carregar o arquivo Excel enviado\n",
    "file_path = 'Pixsee Planet subscription .xlsx'\n",
    "df = pd.read_excel(file_path)\n",
    "\n",
    "# Verificar as primeiras linhas do DataFrame para entender a estrutura\n",
    "df.head()\n"
   ]
  },
  {
   "cell_type": "code",
   "execution_count": 3,
   "metadata": {},
   "outputs": [],
   "source": [
    "import json\n",
    "# Atualizar o código para garantir que todas as strings sejam convertidas para letras maiúsculas no JSON\n",
    "structured_data_with_categories_lowercase = []\n",
    "\n",
    "# Adicionar detalhes gerais (primeira linha) com letras maiúsculas\n",
    "for plan, cost in zip(df.columns[1:], df.iloc[0, 1:]):\n",
    "    structured_data_with_categories_lowercase.append({\n",
    "        \"id\": f\"{plan.lower()}_general\",\n",
    "        \"type\": \"general_info\",\n",
    "        \"plan\": plan.lower(),\n",
    "        \"category\": \"subscription plan\",\n",
    "        \"feature\": \"cost\",\n",
    "        \"details\": str(cost).lower() if isinstance(cost, str) else cost,\n",
    "        \"subgroup\": None\n",
    "    })\n",
    "\n",
    "# Processar cada linha para associar com subgrupos e categorizar recursos com letras maiúsculas\n",
    "current_subgroup = None\n",
    "for index, row in df.iterrows():\n",
    "    if index <= 1:\n",
    "        # Pular as primeiras duas linhas já processadas\n",
    "        continue\n",
    "\n",
    "    feature = str(row[df.columns[0]]).lower()  # Converter o recurso para maiúsculas\n",
    "\n",
    "    # Verificar se a linha representa um novo subgrupo\n",
    "    if pd.isna(row[df.columns[1]]) and pd.isna(row[df.columns[2]]):\n",
    "        current_subgroup = feature  # Atualizar o subgrupo atual\n",
    "        continue\n",
    "\n",
    "    # Processar os detalhes dos recursos sob o subgrupo atual\n",
    "    for plan in df.columns[1:]:\n",
    "        if pd.notna(row[plan]):\n",
    "            structured_data_with_categories_lowercase.append({\n",
    "                \"id\": f\"{plan.lower()}_{index}\",\n",
    "                \"type\": \"feature\",\n",
    "                \"plan\": plan.lower(),\n",
    "                \"category\": \"feature\",\n",
    "                \"feature\": feature,\n",
    "                \"details\": str(row[plan]).lower() if isinstance(row[plan], str) else row[plan],\n",
    "                \"subgroup\": current_subgroup\n",
    "            })\n",
    "\n",
    "# Salvar os dados estruturados com categorias em letras maiúsculas em um arquivo JSON\n",
    "output_path_with_categories_lowercase = 'structured_subscription_data_with_categories_lowercase.json'\n",
    "with open(output_path_with_categories_lowercase, 'w') as f:\n",
    "    json.dump(structured_data_with_categories_lowercase, f, indent=4)\n",
    "\n",
    "\n"
   ]
  }
 ],
 "metadata": {
  "kernelspec": {
   "display_name": "llama",
   "language": "python",
   "name": "python3"
  },
  "language_info": {
   "codemirror_mode": {
    "name": "ipython",
    "version": 3
   },
   "file_extension": ".py",
   "mimetype": "text/x-python",
   "name": "python",
   "nbconvert_exporter": "python",
   "pygments_lexer": "ipython3",
   "version": "3.11.9"
  }
 },
 "nbformat": 4,
 "nbformat_minor": 2
}
