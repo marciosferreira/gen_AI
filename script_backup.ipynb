{
 "cells": [
  {
   "cell_type": "code",
   "execution_count": null,
   "id": "d346599c-7bc6-4216-81fa-bb81b50280a2",
   "metadata": {},
   "outputs": [],
   "source": [
    "# google/gemma-7b-it # meta-llama/Meta-Llama-3-8B-Instruct # google/gemma-2-27b-it\n",
    "#sudo apt-get update\n",
    "#sudo apt-get install libmagic1\n",
    "# pip install transformers==4.46.3\n",
    "# pip install torch torchvision torchaudio --index-url https://download.pytorch.org/whl/cu118\n",
    "# pip install bitsandbytes\n",
    "# pip install accelerate\n",
    "# pip install sentence-transformers\n",
    "# pip install langchain\n",
    "# pip install -U langchain-community\n",
    "# pip install unstructured\n",
    "# pip install \"unstructured[pdf]\"\n",
    "# pip install langchain-huggingface"
   ]
  },
  {
   "cell_type": "code",
   "execution_count": 24,
   "id": "2e73aaf6-4e0e-43d4-aaab-93428f8a2904",
   "metadata": {},
   "outputs": [
    {
     "name": "stdout",
     "output_type": "stream",
     "text": [
      "GPU disponível: True\n",
      "Nome da GPU: NVIDIA GeForce RTX 3090\n"
     ]
    }
   ],
   "source": [
    "import torch\n",
    "print(\"GPU disponível:\", torch.cuda.is_available())\n",
    "print(\"Nome da GPU:\", torch.cuda.get_device_name(0) if torch.cuda.is_available() else \"Nenhuma GPU detectada\")"
   ]
  },
  {
   "cell_type": "code",
   "execution_count": null,
   "id": "aaae6f9e-ba6c-4f67-9c00-f1766ec451ae",
   "metadata": {},
   "outputs": [],
   "source": []
  },
  {
   "cell_type": "code",
   "execution_count": null,
   "id": "a80e3763-5143-42df-af2c-31d2768f1c91",
   "metadata": {},
   "outputs": [],
   "source": []
  },
  {
   "cell_type": "code",
   "execution_count": 13,
   "id": "1f7e0dd5-a599-49ab-96d6-37a42b5eefcb",
   "metadata": {},
   "outputs": [
    {
     "name": "stdout",
     "output_type": "stream",
     "text": [
      "Top 5 textos com maior similaridade por embeddings:\n",
      "1. Texto: Please take this product to the collection point for recycling of electrical and electronic equipmen...\n",
      "   Distância: 0.6202\n",
      "2. Texto: Cleaning and maintenance (stand)\n",
      "\n",
      "Please use a clean dry cloth for cleaning and wiping.\n",
      "\n",
      "Disclaimers...\n",
      "   Distância: 0.7689\n",
      "3. Texto: relocate the receiving antenna. —Increase the separation between the equipment and receiver. —Connec...\n",
      "   Distância: 0.7915\n",
      "4. Texto: This equipment has been tested and found to comply with the limits for a Class B digital device, pur...\n",
      "   Distância: 0.7953\n",
      "5. Texto: turned on.\n",
      "\n",
      "This product must use a socket with a rated power supply of 110V~240V and a rated curren...\n",
      "   Distância: 0.8415\n",
      "\n",
      "Contexto concatenado gerado com 4238 caracteres.\n",
      "Please take this product to the collection point for recycling of electrical and electronic equipment in accordance with local regulations. Do not dispose of this product together with normal household waste. By recycling waste equipment, you can make an important contribution to environmental protection.\n",
      "\n",
      "24\n",
      "\n",
      "Cleaning and maintenance (camera)\n",
      "\n",
      "Please use a clean dry cloth for cleaning and wiping.\n",
      "\n",
      "Do not use strong solvents such as thinners, benzene-containing solvents or other chemical solvents next to or on this\n",
      "\n",
      "product.\n",
      "\n",
      "This product only features splash-proof water protection. Please do not expose the product to water splashes, showers, or\n",
      "\n",
      "any contact with sea water, salt water, chlorinated water or beverages and other liquids. Improper use will void your\n",
      "\n",
      "warranty.\n",
      "\n",
      "Before cleaning your product, please ensure power is turned off, and the power cord from the AC adapter is disconnected.\n",
      "\n",
      "Cleaning and maintenance (stand)\n",
      "\n",
      "Please use a clean dry cloth for cleaning and wiping.<Next> \n",
      "Cleaning and maintenance (stand)\n",
      "\n",
      "Please use a clean dry cloth for cleaning and wiping.\n",
      "\n",
      "Disclaimers\n",
      "\n",
      "This product manual is provided “as-is” without warranties of any kind, either express or implied. To the maximum extent\n",
      "\n",
      "permitted by applicable law, we provide the document AS IS AND WITH ALL FAULTS, you shall bear all the risks arising from\n",
      "\n",
      "the use of this manual.\n",
      "\n",
      "You fully understand and agree that we reserve the right to make changes to this product manual. In the event of changes to\n",
      "\n",
      "product specifications or product drivers, this manual will be updated accordingly. For information on detailed updates to this\n",
      "\n",
      "product manual, please visit the customer service page on the official pixsee website.\n",
      "\n",
      "Please refer to the terms of use and privacy policy description page in the app to view software disclaimers for use of the\n",
      "\n",
      "pixsee app.\n",
      "\n",
      "25\n",
      "\n",
      "In-Warranty Repair and Service\n",
      "\n",
      "This product's warranty repair and service will no long apply should the following occur:<Next> \n",
      "relocate the receiving antenna. —Increase the separation between the equipment and receiver. —Connect the equipment into an outlet on a circuit different from that to which the receiver is connected. —Consult the dealer or an experienced radio/TV technician for help.<Next> \n",
      "This equipment has been tested and found to comply with the limits for a Class B digital device, pursuant to part 15 of the FCC Rules. These limits are designed to provide reasonable protection against harmful interference in a residential installation. This equipment generates, uses and can radiate radio frequency energy and, if not installed and used in accordance with the instructions, may cause harmful interference to radio communications. However, there is no guarantee that interference will not occur in a particular installation. If this equipment does cause harmful interference to radio or television reception, which can be determined by turning the equipment off and on, the user is encouraged to try to correct the interference by one or more of the following measures: —Reorient or relocate the receiving antenna. —Increase the separation between the equipment and receiver. —Connect the equipment into an outlet on a circuit different from that to which the receiver is connected.<Next> \n",
      "turned on.\n",
      "\n",
      "This product must use a socket with a rated power supply of 110V~240V and a rated current of 5V/3A. Do not use a\n",
      "\n",
      "universal socket and with other electrical appliances at the same time. Improper use of an AC adapter with the wrong power\n",
      "\n",
      "ratings on this product might cause damage to the internal parts.\n",
      "\n",
      "Please do not use extension cords that have not been certified for your respective country/region to avoid the risk of fire. It\n",
      "\n",
      "may also affect the Wi-Fi transmission and the performance of this product.\n",
      "\n",
      "Please do not use faulty accessories on this product.\n",
      "\n",
      "Do not touch the plug contacts with sharp or metal objects.\n",
      "\n",
      "Please test this product and all its functions before actually using the product to familiarize yourself with this product during\n",
      "\n",
      "actual use.\n",
      "\n",
      "Do not cover this product or cables with towels and blankets.\n",
      "\n",
      "When the product is in operation, it will dissipate normal heat produced to the surface of the product. Please do not leave\n"
     ]
    }
   ],
   "source": [
    "from langchain.vectorstores import FAISS\n",
    "from langchain.document_loaders import DirectoryLoader\n",
    "from langchain.text_splitter import RecursiveCharacterTextSplitter\n",
    "from langchain_huggingface import HuggingFaceEmbeddings\n",
    "import numpy as np\n",
    "\n",
    "# 1. Carregando documentos PDF\n",
    "loader = DirectoryLoader(\"pdfs/\", glob=\"**/*.pdf\")\n",
    "documents = loader.load()\n",
    "\n",
    "# 2. Dividindo os documentos\n",
    "text_splitter = RecursiveCharacterTextSplitter(\n",
    "    chunk_size=1000,\n",
    "    chunk_overlap=200,\n",
    "    separators=[\"\\n\", \" \", \"\"]\n",
    ")\n",
    "docs = text_splitter.split_documents(documents)\n",
    "\n",
    "# 3. Criando embeddings com HuggingFace\n",
    "embeddings = HuggingFaceEmbeddings(model_name=\"sentence-transformers/gtr-t5-large\")\n",
    "\n",
    "# Gerar embeddings para os documentos em formato NumPy\n",
    "docs_texts = [doc.page_content for doc in docs]\n",
    "docs_embeddings = np.array([embeddings.embed_query(text) for text in docs_texts]).astype('float32')\n",
    "\n",
    "# 4. Criar índice FAISS manualmente\n",
    "import faiss\n",
    "dimension = docs_embeddings.shape[1]  # Dimensão das embeddings\n",
    "faiss_index = faiss.IndexFlatL2(dimension)  # Usar L2 (distância euclidiana)\n",
    "faiss_index.add(docs_embeddings)  # Adicionar as embeddings ao índice\n",
    "\n",
    "# 5. Consulta\n",
    "query_text = \"How can I clean the equipment?\"\n",
    "query_embedding = np.array(embeddings.embed_query(query_text)).astype('float32')  # Garantir formato correto\n",
    "\n",
    "# 6. Buscar as k embeddings mais próximas\n",
    "k = 5\n",
    "distances, indices = faiss_index.search(query_embedding.reshape(1, -1), k)\n",
    "\n",
    "# 7. Recuperar os textos correspondentes e exibir os resultados\n",
    "print(\"Top 5 textos com maior similaridade por embeddings:\")\n",
    "for i, (dist, idx) in enumerate(zip(distances[0], indices[0]), start=1):\n",
    "    if idx == -1:  # Caso não haja mais resultados\n",
    "        continue\n",
    "    print(f\"{i}. Texto: {docs_texts[idx][:100]}...\")  # Mostrar os primeiros 100 caracteres\n",
    "    print(f\"   Distância: {dist:.4f}\")\n",
    "\n",
    "# 8. Concatenar os textos recuperados em um único contexto\n",
    "top_texts = [docs_texts[idx] for idx in indices[0] if idx != -1]\n",
    "context = \"<Next> \\n\".join(top_texts)\n",
    "\n",
    "# Salvar o contexto concatenado em um arquivo (opcional)\n",
    "with open(\"context_rag.txt\", \"w\", encoding=\"utf-8\") as file:\n",
    "    file.write(context)\n",
    "\n",
    "print(f\"\\nContexto concatenado gerado com {len(context)} caracteres.\")\n",
    "print(context)  # Mostra os primeiros 500 caracteres para validação\n",
    "\n"
   ]
  },
  {
   "cell_type": "code",
   "execution_count": 10,
   "id": "c7cd562b-2ddd-4383-bff5-76f72ab32dfa",
   "metadata": {},
   "outputs": [
    {
     "data": {
      "text/plain": [
       "\"Please take this product to the collection point for recycling of electrical and electronic equipment in accordance with local regulations. Do not dispose of this product together with normal household waste. By recycling waste equipment, you can make an important contribution to environmental protection.\\n\\n24\\n\\nCleaning and maintenance (camera)\\n\\nPlease use a clean dry cloth for cleaning and wiping.\\n\\nDo not use strong solvents such as thinners, benzene-containing solvents or other chemical solvents next to or on this\\n\\nproduct.\\n\\nThis product only features splash-proof water protection. Please do not expose the product to water splashes, showers, or\\n\\nany contact with sea water, salt water, chlorinated water or beverages and other liquids. Improper use will void your\\n\\nwarranty.\\n\\nBefore cleaning your product, please ensure power is turned off, and the power cord from the AC adapter is disconnected.\\n\\nCleaning and maintenance (stand)\\n\\nPlease use a clean dry cloth for cleaning and wiping.<Next> \\nCleaning and maintenance (stand)\\n\\nPlease use a clean dry cloth for cleaning and wiping.\\n\\nDisclaimers\\n\\nThis product manual is provided “as-is” without warranties of any kind, either express or implied. To the maximum extent\\n\\npermitted by applicable law, we provide the document AS IS AND WITH ALL FAULTS, you shall bear all the risks arising from\\n\\nthe use of this manual.\\n\\nYou fully understand and agree that we reserve the right to make changes to this product manual. In the event of changes to\\n\\nproduct specifications or product drivers, this manual will be updated accordingly. For information on detailed updates to this\\n\\nproduct manual, please visit the customer service page on the official pixsee website.\\n\\nPlease refer to the terms of use and privacy policy description page in the app to view software disclaimers for use of the\\n\\npixsee app.\\n\\n25\\n\\nIn-Warranty Repair and Service\\n\\nThis product's warranty repair and service will no long apply should the following occur:<Next> \\nrelocate the receiving antenna. —Increase the separation between the equipment and receiver. —Connect the equipment into an outlet on a circuit different from that to which the receiver is connected. —Consult the dealer or an experienced radio/TV technician for help.<Next> \\nThis equipment has been tested and found to comply with the limits for a Class B digital device, pursuant to part 15 of the FCC Rules. These limits are designed to provide reasonable protection against harmful interference in a residential installation. This equipment generates, uses and can radiate radio frequency energy and, if not installed and used in accordance with the instructions, may cause harmful interference to radio communications. However, there is no guarantee that interference will not occur in a particular installation. If this equipment does cause harmful interference to radio or television reception, which can be determined by turning the equipment off and on, the user is encouraged to try to correct the interference by one or more of the following measures: —Reorient or relocate the receiving antenna. —Increase the separation between the equipment and receiver. —Connect the equipment into an outlet on a circuit different from that to which the receiver is connected.<Next> \\nturned on.\\n\\nThis product must use a socket with a rated power supply of 110V~240V and a rated current of 5V/3A. Do not use a\\n\\nuniversal socket and with other electrical appliances at the same time. Improper use of an AC adapter with the wrong power\\n\\nratings on this product might cause damage to the internal parts.\\n\\nPlease do not use extension cords that have not been certified for your respective country/region to avoid the risk of fire. It\\n\\nmay also affect the Wi-Fi transmission and the performance of this product.\\n\\nPlease do not use faulty accessories on this product.\\n\\nDo not touch the plug contacts with sharp or metal objects.\\n\\nPlease test this product and all its functions before actually using the product to familiarize yourself with this product during\\n\\nactual use.\\n\\nDo not cover this product or cables with towels and blankets.\\n\\nWhen the product is in operation, it will dissipate normal heat produced to the surface of the product. Please do not leave\""
      ]
     },
     "execution_count": 10,
     "metadata": {},
     "output_type": "execute_result"
    }
   ],
   "source": [
    "context"
   ]
  },
  {
   "cell_type": "code",
   "execution_count": 73,
   "id": "cc00b1b1-4333-4a56-8c47-018474f5297b",
   "metadata": {},
   "outputs": [
    {
     "data": {
      "text/plain": [
       "'How can I clean the equipment?'"
      ]
     },
     "execution_count": 73,
     "metadata": {},
     "output_type": "execute_result"
    }
   ],
   "source": [
    "query_text"
   ]
  },
  {
   "cell_type": "code",
   "execution_count": 74,
   "id": "fcfe2177-b323-4ed2-a390-86263698ceab",
   "metadata": {},
   "outputs": [
    {
     "name": "stderr",
     "output_type": "stream",
     "text": [
      "`low_cpu_mem_usage` was None, now default to True since model is quantized.\n",
      "Loading checkpoint shards: 100%|██████████| 4/4 [00:02<00:00,  1.41it/s]\n"
     ]
    }
   ],
   "source": [
    "from transformers import AutoTokenizer, AutoModelForCausalLM, BitsAndBytesConfig\n",
    "#bnb.config.bnb_4bit_compute_dtype = torch.float16\n",
    "\n",
    "# Configuração de quantização\n",
    "quantization_config = BitsAndBytesConfig(load_in_4bit=True)\n",
    "\n",
    "# Diretório onde o modelo será salvo/carregado\n",
    "local_cache_dir = \"/models\"\n",
    "# Carregar o tokenizer e o modelo com o diretório especificado\n",
    "tokenizer = AutoTokenizer.from_pretrained(\"google/gemma-7b-it\") # , cache_dir=local_cache_dir\n",
    "model_llm = AutoModelForCausalLM.from_pretrained(\n",
    "    \"google/gemma-7b-it\",\n",
    "    quantization_config=quantization_config) # cache_dir=local_cache_dir"
   ]
  },
  {
   "cell_type": "code",
   "execution_count": 1,
   "id": "52f4a270-6136-47c5-8c91-862ccacbe5cc",
   "metadata": {},
   "outputs": [
    {
     "ename": "NameError",
     "evalue": "name 'context' is not defined",
     "output_type": "error",
     "traceback": [
      "\u001b[0;31m---------------------------------------------------------------------------\u001b[0m",
      "\u001b[0;31mNameError\u001b[0m                                 Traceback (most recent call last)",
      "Cell \u001b[0;32mIn[1], line 9\u001b[0m\n\u001b[1;32m      5\u001b[0m device \u001b[38;5;241m=\u001b[39m torch\u001b[38;5;241m.\u001b[39mdevice(\u001b[38;5;124m\"\u001b[39m\u001b[38;5;124mcuda\u001b[39m\u001b[38;5;124m\"\u001b[39m \u001b[38;5;28;01mif\u001b[39;00m torch\u001b[38;5;241m.\u001b[39mcuda\u001b[38;5;241m.\u001b[39mis_available() \u001b[38;5;28;01melse\u001b[39;00m \u001b[38;5;124m\"\u001b[39m\u001b[38;5;124mcpu\u001b[39m\u001b[38;5;124m\"\u001b[39m)\n\u001b[1;32m      7\u001b[0m \u001b[38;5;66;03m# Entrada de exemplo\u001b[39;00m\n\u001b[1;32m      8\u001b[0m chat \u001b[38;5;241m=\u001b[39m [\n\u001b[0;32m----> 9\u001b[0m     { \u001b[38;5;124m\"\u001b[39m\u001b[38;5;124mrole\u001b[39m\u001b[38;5;124m\"\u001b[39m: \u001b[38;5;124m\"\u001b[39m\u001b[38;5;124muser\u001b[39m\u001b[38;5;124m\"\u001b[39m, \u001b[38;5;124m\"\u001b[39m\u001b[38;5;124mcontent\u001b[39m\u001b[38;5;124m\"\u001b[39m: \u001b[38;5;124mf\u001b[39m\u001b[38;5;124m\"\u001b[39m\u001b[38;5;124mBased on the instructions manual of the equipment: <context>\u001b[39m\u001b[38;5;132;01m{\u001b[39;00m\u001b[43mcontext\u001b[49m\u001b[38;5;132;01m}\u001b[39;00m\u001b[38;5;124m</contex>, look for the answer for the question:<question>\u001b[39m\u001b[38;5;132;01m{\u001b[39;00mquery_text\u001b[38;5;132;01m}\u001b[39;00m\u001b[38;5;124m</question>\u001b[39m\u001b[38;5;124m\"\u001b[39m },\n\u001b[1;32m     10\u001b[0m ]\n\u001b[1;32m     12\u001b[0m \u001b[38;5;66;03m# Medir o tempo de execução\u001b[39;00m\n\u001b[1;32m     13\u001b[0m start_time \u001b[38;5;241m=\u001b[39m time\u001b[38;5;241m.\u001b[39mtime()\n",
      "\u001b[0;31mNameError\u001b[0m: name 'context' is not defined"
     ]
    }
   ],
   "source": [
    "import time\n",
    "import torch\n",
    "\n",
    "# Escolha o dispositivo (CPU ou GPU)\n",
    "device = torch.device(\"cuda\" if torch.cuda.is_available() else \"cpu\")\n",
    "\n",
    "# Entrada de exemplo\n",
    "chat = [\n",
    "    { \"role\": \"user\", \"content\": f\"Based on the instructions manual of the equipment: <context>{context}</contex>, look for the answer for the question:<question>{query_text}</question>\" },\n",
    "]\n",
    "\n",
    "# Medir o tempo de execução\n",
    "start_time = time.time()\n",
    "\n",
    "# Crie o prompt\n",
    "prompt = tokenizer.apply_chat_template(chat, tokenize=False, add_generation_prompt=True)\n",
    "inputs = tokenizer.encode(prompt, add_special_tokens=False, return_tensors=\"pt\")\n",
    "\n",
    "# Mova os inputs para o dispositivo apropriado\n",
    "inputs = inputs.to(device)\n",
    "model_llm = model_llm.to(device)  # Certifique-se de que o modelo também está no dispositivo correto\n",
    "\n",
    "# Geração de texto\n",
    "outputs = model_llm.generate(input_ids=inputs, max_new_tokens=150)\n",
    "\n",
    "# Exibir o resultado\n",
    "print(tokenizer.decode(outputs[0]))\n",
    "\n",
    "end_time = time.time()\n",
    "print(f\"Tempo de execução: {end_time - start_time:.2f} segundos\")\n",
    "\n"
   ]
  },
  {
   "cell_type": "code",
   "execution_count": 76,
   "id": "3e99c4be-2b30-44ac-b78d-0f14391ef37a",
   "metadata": {},
   "outputs": [
    {
     "data": {
      "text/plain": [
       "'How can I clean the equipment?'"
      ]
     },
     "execution_count": 76,
     "metadata": {},
     "output_type": "execute_result"
    }
   ],
   "source": [
    "query_text"
   ]
  },
  {
   "cell_type": "code",
   "execution_count": 77,
   "id": "029cf521-a7b2-402d-8881-7afafc0a1aea",
   "metadata": {},
   "outputs": [
    {
     "name": "stdout",
     "output_type": "stream",
     "text": [
      "Gráfico salvo como 'tsne_plot_tooltip.html'. Abra no navegador para visualizar.\n"
     ]
    },
    {
     "name": "stderr",
     "output_type": "stream",
     "text": [
      "/opt/conda/lib/python3.11/site-packages/sklearn/manifold/_t_sne.py:1164: FutureWarning:\n",
      "\n",
      "'n_iter' was renamed to 'max_iter' in version 1.5 and will be removed in 1.7.\n",
      "\n"
     ]
    }
   ],
   "source": [
    "import plotly.express as px\n",
    "import pandas as pd\n",
    "import numpy as np\n",
    "from sklearn.manifold import TSNE\n",
    "import plotly.io as pio\n",
    "\n",
    "# Configurar o renderer\n",
    "pio.renderers.default = \"iframe\"\n",
    "\n",
    "# 1. Garantir que as embeddings dos documentos e da query estejam no formato correto\n",
    "docs_embeddings_np = docs_embeddings  # Renomear para manter consistência\n",
    "query_embedding_np = query_embedding.reshape(1, -1)  # Garantir formato correto\n",
    "\n",
    "# 2. Combinar as embeddings dos documentos e a embedding da query\n",
    "all_embeddings = np.vstack([docs_embeddings_np, query_embedding_np]).astype('float32')\n",
    "\n",
    "# 3. Aplicar t-SNE para reduzir para 2 dimensões\n",
    "tsne = TSNE(n_components=2, random_state=42, perplexity=10, n_iter=500)\n",
    "embeddings_2d = tsne.fit_transform(all_embeddings)\n",
    "\n",
    "# 4. Criar lista de textos (documentos + query)\n",
    "texts = [doc.page_content for doc in docs]  # Documentos\n",
    "query_text_wrapped = \"QUERY: \" + query_text  # Texto específico para a query\n",
    "texts.append(query_text_wrapped)  # Garantir que a query seja a última entrada\n",
    "\n",
    "# 5. Criar DataFrame para visualização\n",
    "data = pd.DataFrame({\n",
    "    \"x\": embeddings_2d[:, 0],  # Primeiro componente t-SNE\n",
    "    \"y\": embeddings_2d[:, 1],  # Segundo componente t-SNE\n",
    "    \"Text\": texts,             # Textos dos documentos e da query\n",
    "    \"Type\": [\"Document\"] * len(docs) + [\"Query\"]  # Tipo: Document ou Query\n",
    "})\n",
    "\n",
    "# 6. Formatar os tooltips para limitar a largura\n",
    "def format_tooltip(text, max_length=50):\n",
    "    \"\"\"Quebra o texto em múltiplas linhas com um limite de caracteres.\"\"\"\n",
    "    return '<br>'.join([text[i:i+max_length] for i in range(0, len(text), max_length)])\n",
    "\n",
    "data[\"FormattedText\"] = data[\"Text\"].apply(lambda x: format_tooltip(x))\n",
    "\n",
    "# 7. Criar gráfico interativo com Plotly\n",
    "fig = px.scatter(\n",
    "    data,\n",
    "    x=\"x\",\n",
    "    y=\"y\",\n",
    "    color=\"Type\",\n",
    "    hover_data={\"FormattedText\": True, \"x\": False, \"y\": False},  # Tooltips formatados\n",
    "    title=\"t-SNE dos Documentos e Query Embeddings\",\n",
    "    labels={\"x\": \"t-SNE Component 1\", \"y\": \"t-SNE Component 2\"}\n",
    ")\n",
    "\n",
    "# Melhorar a aparência dos pontos\n",
    "fig.update_traces(marker=dict(size=10, opacity=0.8, line=dict(width=1, color='DarkSlateGrey')))\n",
    "\n",
    "# 8. Salvar como HTML\n",
    "fig.write_html(\"tsne_plot_tooltip.html\")\n",
    "print(\"Gráfico salvo como 'tsne_plot_tooltip.html'. Abra no navegador para visualizar.\")\n",
    "\n",
    "\n"
   ]
  },
  {
   "cell_type": "code",
   "execution_count": null,
   "id": "b91b30ce-0dc9-4a02-8160-7596e82f9887",
   "metadata": {},
   "outputs": [],
   "source": []
  },
  {
   "cell_type": "code",
   "execution_count": null,
   "id": "e709133e-aa0b-4593-935d-074df16a1722",
   "metadata": {},
   "outputs": [],
   "source": []
  },
  {
   "cell_type": "code",
   "execution_count": null,
   "id": "7ecb7f06-d9b3-4e72-be4b-0601c58f121f",
   "metadata": {},
   "outputs": [],
   "source": []
  },
  {
   "cell_type": "code",
   "execution_count": null,
   "id": "cbf4bdbd-a48e-4c97-b272-d4f31a330d64",
   "metadata": {},
   "outputs": [],
   "source": []
  },
  {
   "cell_type": "code",
   "execution_count": null,
   "id": "02d7986e-f725-4a7d-b4e9-770facda51de",
   "metadata": {},
   "outputs": [],
   "source": []
  },
  {
   "cell_type": "code",
   "execution_count": null,
   "id": "fe5c8f7e-58b0-40f4-8c97-d42923a3c1f0",
   "metadata": {},
   "outputs": [],
   "source": []
  }
 ],
 "metadata": {
  "kernelspec": {
   "display_name": "Python 3 (ipykernel)",
   "language": "python",
   "name": "python3"
  },
  "language_info": {
   "codemirror_mode": {
    "name": "ipython",
    "version": 3
   },
   "file_extension": ".py",
   "mimetype": "text/x-python",
   "name": "python",
   "nbconvert_exporter": "python",
   "pygments_lexer": "ipython3",
   "version": "3.11.6"
  }
 },
 "nbformat": 4,
 "nbformat_minor": 5
}
